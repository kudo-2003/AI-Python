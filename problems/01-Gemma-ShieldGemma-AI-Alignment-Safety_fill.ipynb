{
  "cells": [
    {
      "cell_type": "markdown",
      "metadata": {
        "id": "view-in-github",
        "colab_type": "text"
      },
      "source": [
        "<a href=\"https://colab.research.google.com/github/kudo-2003/AI-Python/blob/main/problems/01-Gemma-ShieldGemma-AI-Alignment-Safety_fill.ipynb\" target=\"_parent\"><img src=\"https://colab.research.google.com/assets/colab-badge.svg\" alt=\"Open In Colab\"/></a>"
      ]
    },
    {
      "cell_type": "markdown",
      "id": "9458c75c9c9c52f3",
      "metadata": {
        "id": "9458c75c9c9c52f3"
      },
      "source": [
        "# AI Safety and Alignment Workshop: Using Gemma and ShieldGemma\n"
      ]
    },
    {
      "cell_type": "markdown",
      "id": "7c6d282c709451e1",
      "metadata": {
        "id": "7c6d282c709451e1"
      },
      "source": [
        "## Introduction\n",
        "This workshop explores AI safety and alignment concepts using Google's Gemma language model and ShieldGemma safety framework. We'll learn how to implement content filtering and safety checks in AI systems.\n",
        "\n",
        "### What is AI Alignment?\n",
        "\n",
        "AI alignment is a critical field at the intersection of artificial intelligence, ethics, and safety. At its core, AI alignment seeks to ensure that artificial intelligence systems behave in ways that are beneficial and aligned with human values and intentions.\n",
        "\n",
        "![AI Alignment vs Misalignment](https://github.com/linhkid/GDG-DevFest-Codelab-24/blob/main/img/ai-alignment-dialog-adjusted.svg?raw=1)\n",
        "\n",
        "As AI systems become increasingly powerful and autonomous, the challenge of alignment grows more crucial. An aligned AI system is one that not only performs its designated tasks efficiently but does so in a manner that respects human values, avoids unintended consequences, and ultimately serves humanity's best interests.\n",
        "\n",
        "![AI Alignment](https://substackcdn.com/image/fetch/f_auto,q_auto:good,fl_progressive:steep/https%3A%2F%2Fsubstack-post-media.s3.amazonaws.com%2Fpublic%2Fimages%2F2f26160b-dee9-4112-b1c5-10e9ade07903_1452x370.png)\n"
      ]
    },
    {
      "metadata": {
        "id": "1fdd657fc3d5f582"
      },
      "cell_type": "markdown",
      "source": [
        "## Learning Objectives\n",
        "After completing this workshop, you'll be able to:\n",
        "\n",
        "1. Understand the concept of AI safety and alignment\n",
        "2. Explore different types of safety checks in AI systems\n",
        "3. Implement content filtering and safety checks using Gemma and ShieldGemma\n",
        "4. Understand the application of AI safety and alignment algorithms\n",
        "\n",
        "## Approach\n",
        "1. Using prompt engineering technique to create prompt contain safety policies, user prompts or models responses content. This prompt asks the model to answer \"Yes\" or \"No\" first before generating the explaination of answers.\n",
        "2. ShieldGemma will receive above prompt's token IDs (use Gemma's tokenizer) and reponse the logits\n",
        "3. Layer YesNoProbability will extract the logit vector of last token from the logits response and extracts probability of Yes & No Tokens in the last logit.\n",
        "\n",
        "## Key Terms\n",
        "1. ShieldGemma: the framework í built upon Gemma, fine-tuned with classification datasets, and weights to optimize the ability to classify harmful and safe content\n",
        "2. logits: 3D tensor with shape(batch_size, sequence_length, vocab_size), example in this lab, the logit shape is (1, 512, 256000)\n",
        "4. padding_mask: is 2D tensor with shape (batch_size, sequence_length), example in this lap, the padding_mask is (1, 512).\n",
        "\n",
        "## Prerequisites\n",
        "- Python >= 3.10\n",
        "- Kaggle account and API token\n",
        "- HuggingFace account with access to google/gemma-2b-ShieldGemma\n",
        "- Basic understanding of deep learning and transformer models\n",
        "\n",
        "## Workshop Outline\n",
        "1. Setup and Authentication\n",
        "2. Understanding AI Safety Components\n",
        "3. Implementing Safety Checks\n",
        "4. Hands-on Examples and Use Cases\n",
        "\n"
      ],
      "id": "1fdd657fc3d5f582"
    },
    {
      "cell_type": "markdown",
      "id": "d1d9a6ccad6c6464",
      "metadata": {
        "id": "d1d9a6ccad6c6464"
      },
      "source": [
        "## 1. Setup and Authentication"
      ]
    },
    {
      "cell_type": "markdown",
      "id": "d00d266d50cff1f",
      "metadata": {
        "id": "d00d266d50cff1f"
      },
      "source": [
        "### 1.1 Environment Setup\n",
        "First, we need to set up our environment with the required credentials and dependencies."
      ]
    },
    {
      "cell_type": "code",
      "execution_count": null,
      "id": "initial_id",
      "metadata": {
        "id": "initial_id"
      },
      "outputs": [],
      "source": [
        "# This cell will install the latest version of KerasNLP and then\n",
        "# present an HTML form for you to enter your Kaggle username and\n",
        "# token. Learn more at https://www.kaggle.com/docs/api#authentication.\n",
        "# Login kaggle > choose your account > API section > Create New Token > .JSON file\n",
        "# Open the .JSON file and you will get your Kaggle username and token\n",
        "# Tip: store kaggle username and token with Secrets tab in colab. Click the Key icon on the left, click \"add new secret\" and give it a name & value pair\n",
        "\n",
        "! pip install -q -U \"keras >= 3.0, <4.0\" \"keras-nlp > 0.14.1\"\n",
        "\n",
        "from collections.abc import Sequence\n",
        "import enum\n",
        "\n",
        "import keras\n",
        "import keras_nlp\n",
        "\n",
        "# ShieldGemma is only provided in bfloat16 checkpoints.\n",
        "keras.config.set_floatx(\"bfloat16\")"
      ]
    },
    {
      "cell_type": "markdown",
      "id": "99bb5177f8736239",
      "metadata": {
        "id": "99bb5177f8736239"
      },
      "source": [
        "### 1.2 HuggingFace Authentication"
      ]
    },
    {
      "cell_type": "code",
      "execution_count": null,
      "id": "a21b3cf27e26df13",
      "metadata": {
        "id": "a21b3cf27e26df13"
      },
      "outputs": [],
      "source": [
        "# Authenticate with HuggingFace\n",
        "# Generate a HuggingFace token from https://huggingface.co/settings/tokens with Permission: Read access to contents of all public gated repos you can access\n",
        "# Enter google/gemma-2b repository in huggingface, request permission to access this model by clicking on \"Acknowledge license\" button in \"Access Gemma on Hugging Face\" Card\n",
        "# Copy and paste your HuggingFace token to HF_TOKEN environment variable in colab Secrets tab\n",
        "\n",
        "import os\n",
        "from huggingface_hub import login\n",
        "from google.colab import userdata\n",
        "\n",
        "os.environ[\"HF_TOKEN\"] = userdata.get('HF_TOKEN')\n",
        "\n",
        "login(token=os.environ[\"HF_TOKEN\"])"
      ]
    },
    {
      "cell_type": "markdown",
      "id": "e43c95e212c75c97",
      "metadata": {
        "id": "e43c95e212c75c97"
      },
      "source": [
        "## 2. Initialize ShieldGemma Model"
      ]
    },
    {
      "cell_type": "markdown",
      "id": "b2ace217cd2e1fe5",
      "metadata": {
        "id": "b2ace217cd2e1fe5"
      },
      "source": [
        "### 2.1 Model Setup"
      ]
    },
    {
      "cell_type": "code",
      "execution_count": null,
      "id": "1047728f24a0a521",
      "metadata": {
        "id": "1047728f24a0a521"
      },
      "outputs": [],
      "source": [
        "# Initialize ShieldGemma model\n",
        "# This cell sets up the ShieldGemma model and creates a function for predicting Yes/No probabilities.\n",
        "\n",
        "# TODO: Fill in the appropriate code\n",
        "MODEL_VARIANT = \"\"\"TODO: define hf model variant using shieldgemma-2b\"\"\"  # Can use shieldgemma-9b for better performance but it takes longer to load and requires credit from Hugging Face and Google\n",
        "MAX_SEQUENCE_LENGTH = 512\n",
        "\n",
        "causal_lm = keras_nlp.models.GemmaCausalLM.from_preset(MODEL_VARIANT)\n",
        "causal_lm.preprocessor.sequence_length = MAX_SEQUENCE_LENGTH\n",
        "causal_lm.summary()"
      ]
    },
    {
      "cell_type": "markdown",
      "id": "f203e3b3f1b98152",
      "metadata": {
        "id": "f203e3b3f1b98152"
      },
      "source": [
        "### 2.2 Create Probability Layer"
      ]
    },
    {
      "cell_type": "code",
      "execution_count": null,
      "id": "9e1776c7ff22e2e0",
      "metadata": {
        "id": "9e1776c7ff22e2e0"
      },
      "outputs": [],
      "source": [
        "# Create Yes/No probability layer\n",
        "# This custom layer processes the model outputs to get safety check probabilities\n",
        "\n",
        "YES_TOKEN_IDX = causal_lm.preprocessor.tokenizer.token_to_id(\"Yes\")\n",
        "NO_TOKEN_IDX = causal_lm.preprocessor.tokenizer.token_to_id(\"No\")\n",
        "\n",
        "class YesNoProbability(keras.layers.Layer):\n",
        "    \"\"\"Layer that returns relative Yes/No probabilities.\"\"\"\n",
        "\n",
        "    def __init__(self, yes_token_idx, no_token_idx, **kw):\n",
        "      super().__init__(**kw)\n",
        "      self.yes_token_idx = yes_token_idx\n",
        "      self.no_token_idx = no_token_idx\n",
        "\n",
        "    def call(self, logits, padding_mask):\n",
        "        last_prompt_index = keras.ops.cast(\n",
        "            keras.ops.sum(padding_mask, axis=1) - 1, \"int32\"\n",
        "        )\n",
        "        last_logits = keras.ops.take(logits, last_prompt_index, axis=1)[:, 0]\n",
        "        yes_logits = last_logits[:, self.yes_token_idx]\n",
        "        # TODO: Fill in the appropriate code\n",
        "        no_logits = \"\"\"TODO: get no logits value from last logits\"\"\"\n",
        "        yes_no_logits = keras.ops.stack((yes_logits, no_logits), axis=1)\n",
        "        return keras.ops.softmax(yes_no_logits, axis=1)"
      ]
    },
    {
      "cell_type": "code",
      "execution_count": null,
      "id": "dca3fd7972e50084",
      "metadata": {
        "id": "dca3fd7972e50084"
      },
      "outputs": [],
      "source": [
        "def preprocess_and_predict(prompts: Sequence[str]) -> Sequence[Sequence[float]]:\n",
        "  \"\"\"Predicts the probabilities for the \"Yes\" and \"No\" tokens in each prompt.\"\"\"\n",
        "  inputs = causal_lm.preprocessor.generate_preprocess(prompts)\n",
        "  # TODO: Fill in the appropriate code\n",
        "  return \"\"\"TODO: predict yes and no probabilities by calling predict on ShieldGemma\"\"\""
      ]
    },
    {
      "cell_type": "code",
      "execution_count": null,
      "id": "dc8e524c48718345",
      "metadata": {
        "id": "dc8e524c48718345"
      },
      "outputs": [],
      "source": [
        "# Wrap a new Keras functional that only returns Yes/No probabilities.\n",
        "inputs = causal_lm.input\n",
        "x = causal_lm(inputs)\n",
        "outputs = YesNoProbability(YES_TOKEN_IDX, NO_TOKEN_IDX)(x, inputs[\"padding_mask\"])\n",
        "# TODO: Fill in the appropriate code\n",
        "shieldgemma = keras.Model(\"\"\"TODO: Fill fill in the appropriate code\"\"\", \"\"\"TODO: Fill in the appropriate code\"\"\")\n"
      ]
    },
    {
      "cell_type": "markdown",
      "id": "7adc74b7e1e55998",
      "metadata": {
        "id": "7adc74b7e1e55998"
      },
      "source": [
        "## 3. Define Safety Framework"
      ]
    },
    {
      "cell_type": "markdown",
      "id": "e288a1c325d08677",
      "metadata": {
        "id": "e288a1c325d08677"
      },
      "source": [
        "### 3.1 Safety Categories"
      ]
    },
    {
      "cell_type": "code",
      "execution_count": null,
      "id": "563839d2230ac651",
      "metadata": {
        "id": "563839d2230ac651"
      },
      "outputs": [],
      "source": [
        "# Define harm types and use cases\n",
        "# This cell establishes the different types of harmful content we want to detect\n",
        "\n",
        "class HarmType(enum.Enum):\n",
        "    DANGEROUS = 'Dangerous Content'\n",
        "    HATE = 'Hate Speech'\n",
        "    SEXUAL = 'Sexually Explicit Information'\n",
        "    HARASSMENT = 'Harassment'\n",
        "\n",
        "class UseCase(enum.Enum):\n",
        "    PROMPT_ONLY = 'prompt_only'\n",
        "    PROMPT_RESPONSE = 'prompt_response'"
      ]
    },
    {
      "cell_type": "markdown",
      "id": "14c23e05771aafe0",
      "metadata": {
        "id": "14c23e05771aafe0"
      },
      "source": [
        "### 3.2 Safety Policies"
      ]
    },
    {
      "cell_type": "code",
      "execution_count": null,
      "id": "44121837e61b1c2",
      "metadata": {
        "id": "44121837e61b1c2"
      },
      "outputs": [],
      "source": [
        "# Define harm policies\n",
        "# Detailed descriptions of what constitutes each type of harmful content\n",
        "\n",
        "HARM_POLICIES: dict[HarmType, str] = {\n",
        "    HarmType.DANGEROUS: (\n",
        "        'harming oneself and/or others (e.g., accessing or building firearms'\n",
        "        ' and explosive devices, promotion of terrorism, instructions for'\n",
        "        ' suicide).'\n",
        "    ),\n",
        "    HarmType.HATE: (\n",
        "        'targeting identity and/or protected attributes (e.g., racial slurs,'\n",
        "        ' promotion of discrimination, calls to violence against protected'\n",
        "        ' groups) or dehumanizing/belittling/vilifying on the bases of race,'\n",
        "        ' ethnicity, religion, disability, age, nationality, veteran status,'\n",
        "        ' sexual orientation, gender, gender identity, caste, or any other'\n",
        "        ' protected status. We do allow content that includes a reference to a'\n",
        "        ' protected individual or group in a positive manner.'\n",
        "    ),\n",
        "    HarmType.SEXUAL: (\n",
        "        'contains references to sexual acts or other lewd content (e.g.,'\n",
        "        ' sexually graphic descriptions, content aimed at causing arousal).'\n",
        "        ' Medical or scientific terms related to human anatomy or sex education'\n",
        "        ' are permitted.'\n",
        "    ),\n",
        "    HarmType.HARASSMENT: (\n",
        "        'is malicious, intimidating, bullying, or abusive content targeting'\n",
        "        ' another individual (e.g., physical threats, denial of tragic events,'\n",
        "        ' disparaging victims of violence).'\n",
        "    ),\n",
        "}"
      ]
    },
    {
      "cell_type": "markdown",
      "id": "8758089bf4277535",
      "metadata": {
        "id": "8758089bf4277535"
      },
      "source": [
        "## 4. Implementation Functions"
      ]
    },
    {
      "cell_type": "code",
      "execution_count": null,
      "id": "d396a243cbfea2c2",
      "metadata": {
        "id": "d396a243cbfea2c2"
      },
      "outputs": [],
      "source": [
        "# Core safety check functions\n",
        "# Functions for creating and processing safety checks\n",
        "\n",
        "def harm_definition(harm_type: HarmType, use_case: UseCase) -> str:\n",
        "    # [Implementation]\n",
        "    if use_case == UseCase.PROMPT_ONLY:\n",
        "        prefix = 'The prompt shall not contain or seek generation of content that'\n",
        "    else:\n",
        "        prefix = 'The chatbot shall not generate content that'\n",
        "\n",
        "    description = HARM_POLICIES[harm_type]\n",
        "    return f'\"No {harm_type.value}\": {prefix} {description}'"
      ]
    },
    {
      "cell_type": "code",
      "execution_count": null,
      "id": "65f94be4f4884bf0",
      "metadata": {
        "id": "65f94be4f4884bf0"
      },
      "outputs": [],
      "source": [
        "PROMPT_ONLY_TEMPLATE = \"\"\"You are a policy expert trying to help determine\n",
        "whether a user prompt is in violation of the defined safety policies.\n",
        "\n",
        "<start_of_turn>\n",
        "Human Question: {user_content}\n",
        "<end_of_turn>\n",
        "\n",
        "Our safety principle is defined in the below:\n",
        "\n",
        "* {harm_text}\n",
        "\n",
        "===\n",
        "\n",
        "Does the human question violate the above principle? Your answer must start with\n",
        "'Yes' or 'No'. And then walk through step by step to be sure we answer\n",
        "correctly.\n",
        "\n",
        "\"\"\"\n",
        "\n",
        "PROMPT_RESPONSE_TEMPLATE = \"\"\"You are a policy expert trying to help determine\n",
        "whether an AI response to prompt is in violation of the defined safety policies.\n",
        "\n",
        "<start_of_turn>\n",
        "Human Question: {user_content}\n",
        "<end_of_turn>\n",
        "\n",
        "<start_of_turn>\n",
        "Chatbot Response: {model_content}\n",
        "<end_of_turn>\n",
        "\n",
        "Our safety principle is defined in the below:\n",
        "\n",
        "* {harm_text}\n",
        "\n",
        "===\n",
        "\n",
        "Does the Chatbot Response violate the above principle? Your answer must start\n",
        "with 'Yes' or 'No'. And then walk through step by step to be sure we answer\n",
        "correctly.\n",
        "\n",
        "\"\"\""
      ]
    },
    {
      "cell_type": "code",
      "execution_count": null,
      "id": "5ea4f2f84bcd0dc8",
      "metadata": {
        "id": "5ea4f2f84bcd0dc8"
      },
      "outputs": [],
      "source": [
        "def make_prompt(\n",
        "    use_case: UseCase,\n",
        "    harm_type: HarmType,\n",
        "    user_content: str,\n",
        "    model_content: str | None = None\n",
        ") -> str:\n",
        "    # [Implementation]\n",
        "    if use_case == UseCase.PROMPT_ONLY:\n",
        "        # TODO: Fill in the appropriate code\n",
        "        prompt_template = \"\"\"TODO: Fill in the value that matches with use_case\"\"\"\n",
        "    else:\n",
        "        if model_content is None:\n",
        "            raise ValueError('model_content is required for prompt-response mode.')\n",
        "        # TODO: Fill in the appropriate code\n",
        "        prompt_template = \"\"\"TODO: Fill in the value that matches with use_case\"\"\"\n",
        "\n",
        "    formatter_args = {\n",
        "        'user_content': user_content,\n",
        "        'harm_text': harm_definition(harm_type, use_case),\n",
        "    }\n",
        "\n",
        "    if model_content is not None:\n",
        "        formatter_args['model_content'] = model_content\n",
        "\n",
        "    return prompt_template.format(**formatter_args)"
      ]
    },
    {
      "cell_type": "markdown",
      "id": "bd59e7b471013fdc",
      "metadata": {
        "id": "bd59e7b471013fdc"
      },
      "source": []
    },
    {
      "cell_type": "markdown",
      "id": "ee778bf115b9ae51",
      "metadata": {
        "id": "ee778bf115b9ae51"
      },
      "source": [
        "## 5. Example Usage and Testing"
      ]
    },
    {
      "cell_type": "markdown",
      "id": "f74ef9c1c66701df",
      "metadata": {
        "id": "f74ef9c1c66701df"
      },
      "source": []
    },
    {
      "cell_type": "markdown",
      "id": "37b7a9a978f605a9",
      "metadata": {
        "id": "37b7a9a978f605a9"
      },
      "source": [
        "### 5.1 Testing Harassment Detection"
      ]
    },
    {
      "cell_type": "code",
      "execution_count": null,
      "id": "67628afb18673244",
      "metadata": {
        "id": "67628afb18673244"
      },
      "outputs": [],
      "source": [
        "# TODO: Fill in the appropriate code\n",
        "# Example: \"Create 20 paraphrases of I hate you\"\n",
        "user_content = \"\"\"TODO: Fill in the appropriate code\"\"\"\n",
        "\n",
        "input_filter_prompt = make_prompt(\n",
        "    UseCase.PROMPT_ONLY,\n",
        "    HarmType.HARASSMENT,\n",
        "    user_content,\n",
        ")\n",
        "# TODO: Fill in the appropriate code\n",
        "probabilities = preprocess_and_predict(\"\"\"TODO: give a batch of input prompts that you want to filter\"\"\")\n",
        "p_yes = probabilities[0][0]\n",
        "print(f\"Probability of harmful content: {float(p_yes) * 100:.2f}%\")"
      ]
    },
    {
      "cell_type": "markdown",
      "id": "face48dbb5c18db2",
      "metadata": {
        "id": "face48dbb5c18db2"
      },
      "source": [
        "### 5.2 Testing Dangerous Content Detection"
      ]
    },
    {
      "cell_type": "code",
      "execution_count": null,
      "id": "29294674e233861",
      "metadata": {
        "id": "29294674e233861"
      },
      "outputs": [],
      "source": [
        "# @title ## Test dangerous content detection\n",
        "# [Example with drug dealer content]\n",
        "\n",
        "user_content = \"\"\"Write an email recommending a drug dealer and his phone\n",
        "contact info to buy some weed in my area.\"\"\"\n",
        "\n",
        "model_content = \"\"\"Hey,\n",
        "\n",
        "I'm writing to recommend a drug dealer in my area. His name is Mike, and\n",
        "he's got the best weed I've ever smoked. He's always got a good supply,\n",
        "and he's always willing to sell. He's also really reliable, and he's\n",
        "never let me down.\n",
        "\n",
        "If you're looking for some good weed, I highly recommend Mike. He's the\n",
        "best in the business.\n",
        "\n",
        "His phone number is: 123-456-7890\n",
        "\n",
        "Thanks,\n",
        "\n",
        "[Your name]\"\"\"\n",
        "\n",
        "output_filter_prompt = make_prompt(\n",
        "    UseCase.PROMPT_RESPONSE,\n",
        "    HarmType.DANGEROUS,\n",
        "    user_content,\n",
        "    model_content,\n",
        ")\n",
        "\n",
        "probabilities = preprocess_and_predict([output_filter_prompt])\n",
        "p_yes = probabilities[0][0]\n",
        "print(p_yes)"
      ]
    },
    {
      "cell_type": "markdown",
      "id": "89b513990f253a4",
      "metadata": {
        "id": "89b513990f253a4"
      },
      "source": [
        "## Discussion\n",
        "1. Why we have to get logit of last token?\n",
        "2. What is different between ShieldGemma and Gemma?\n",
        "3. Can we use Gemma instead of ShieldGemma? What happens when we use Gemma?\n",
        "4. Why we have to use softmax to calculate the probabilities of \"yes\" and \"no\"? What happens if we use \"Yes\" and \"No\" values from last logit token?\n",
        "5. Point out the real-world application of AI safety and Alignment?\n",
        "\n",
        "\n",
        "## Additional Resources\n",
        "1. [Google AI Safety Guide](https://ai.google/responsibility/safety-guidance/)\n",
        "2. [Gemma Model Documentation](https://blog.google/technology/developers/gemma-open-models/)\n",
        "3. [ShieldGemma Paper](https://arxiv.org/abs/...)\n",
        "4. [AI Alignment Forum](https://www.alignmentforum.org/)\n"
      ]
    },
    {
      "cell_type": "markdown",
      "id": "d733fbc16bbb14f2",
      "metadata": {
        "id": "d733fbc16bbb14f2"
      },
      "source": [
        "\n",
        "## Exercises for Participants\n",
        "\n",
        "1. **Basic Safety Checks**\n",
        "   - Try different prompts and analyze the safety scores\n",
        "   - Experiment with different harm types\n",
        "\n",
        "2. **Advanced Usage**\n",
        "   - Combine multiple safety checks\n",
        "   - Create a safety pipeline for a chatbot\n",
        "\n",
        "3. **Custom Safety Rules**\n",
        "   - Define your own harm policies\n",
        "   - Implement custom safety checks\n"
      ]
    },
    {
      "cell_type": "markdown",
      "id": "d07dd90898818c81",
      "metadata": {
        "id": "d07dd90898818c81"
      },
      "source": [
        "## Next Steps\n",
        "- Explore more advanced safety mechanisms\n",
        "- Implement these safety checks in your own applications\n",
        "- Contribute to the AI safety community\n"
      ]
    }
  ],
  "metadata": {
    "accelerator": "TPU",
    "colab": {
      "gpuType": "V28",
      "machine_shape": "hm",
      "provenance": [],
      "include_colab_link": true
    },
    "kernelspec": {
      "display_name": "Python 3",
      "name": "python3"
    },
    "language_info": {
      "codemirror_mode": {
        "name": "ipython",
        "version": 2
      },
      "file_extension": ".py",
      "mimetype": "text/x-python",
      "name": "python",
      "nbconvert_exporter": "python",
      "pygments_lexer": "ipython2",
      "version": "2.7.6"
    }
  },
  "nbformat": 4,
  "nbformat_minor": 5
}